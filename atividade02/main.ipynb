{
 "cells": [
  {
   "cell_type": "code",
   "execution_count": null,
   "id": "892e064b",
   "metadata": {},
   "outputs": [
    {
     "ename": "ModuleNotFoundError",
     "evalue": "No module named 'tqdm'",
     "output_type": "error",
     "traceback": [
      "\u001b[31m---------------------------------------------------------------------------\u001b[39m",
      "\u001b[31mModuleNotFoundError\u001b[39m                       Traceback (most recent call last)",
      "\u001b[36mCell\u001b[39m\u001b[36m \u001b[39m\u001b[32mIn[35]\u001b[39m\u001b[32m, line 2\u001b[39m\n\u001b[32m      1\u001b[39m \u001b[38;5;28;01mfrom\u001b[39;00m\u001b[38;5;250m \u001b[39m\u001b[34;01mtyping\u001b[39;00m\u001b[38;5;250m \u001b[39m\u001b[38;5;28;01mimport\u001b[39;00m List, Dict, Any, Callable\n\u001b[32m----> \u001b[39m\u001b[32m2\u001b[39m \u001b[38;5;28;01mfrom\u001b[39;00m\u001b[38;5;250m \u001b[39m\u001b[34;01mtqdm\u001b[39;00m\u001b[38;5;250m \u001b[39m\u001b[38;5;28;01mimport\u001b[39;00m tqdm\n\u001b[32m      4\u001b[39m \u001b[38;5;28;01mimport\u001b[39;00m\u001b[38;5;250m \u001b[39m\u001b[34;01mnumpy\u001b[39;00m\u001b[38;5;250m \u001b[39m\u001b[38;5;28;01mas\u001b[39;00m\u001b[38;5;250m \u001b[39m\u001b[34;01mnp\u001b[39;00m\n\u001b[32m      5\u001b[39m \u001b[38;5;28;01mimport\u001b[39;00m\u001b[38;5;250m \u001b[39m\u001b[34;01mpandas\u001b[39;00m\u001b[38;5;250m \u001b[39m\u001b[38;5;28;01mas\u001b[39;00m\u001b[38;5;250m \u001b[39m\u001b[34;01mpd\u001b[39;00m\n",
      "\u001b[31mModuleNotFoundError\u001b[39m: No module named 'tqdm'"
     ]
    }
   ],
   "source": [
    "from typing import List, Dict, Any, Callable\n",
    "\n",
    "import numpy as np\n",
    "import pandas as pd\n",
    "import matplotlib.pyplot as plt\n",
    "import seaborn as sns\n",
    "\n",
    "from utils import Solution, Problem, Minimize, Maximize, ObjectiveFunction\n",
    "from heuristics import HillClimbing"
   ]
  },
  {
   "cell_type": "markdown",
   "id": "4896f095",
   "metadata": {},
   "source": [
    "# 1. Solução"
   ]
  },
  {
   "cell_type": "markdown",
   "id": "3947de2e",
   "metadata": {},
   "source": [
    "As soluções do problema de alocação de empresas à projetos estão modeladas na classe `Solution`, que é construída a partir de dois parâmetros:\n",
    "\n",
    "- `n_companies`: o número de empresas a ser modelado;\n",
    "- `n_projects`: o número de projetos a ser modelado.\n",
    "\n",
    "De posse dessas duas informações, é criado então um atributo `x`, um array do Numpy que armazena os valores da solução codificada. Essa codificação transforma a matriz esparsa $m \\times n$ em um array 1-D cujos índices e valores indicam a linha e coluna de posição de uma alocação, respectivamente. Dessa forma, a restrição de ter apenas um projeto alocado a somente uma empresa é obedecida sempre.\n",
    "\n",
    "De forma a facilitar a visualização da solução baseada em alocações empresa $\\times$ projeto, o método `sparse()` retorna um array 2-D com a matriz original da codificação.\n",
    "\n",
    "Por fim, a função de vizinhança é implementada no método `move()`, que escolhe aleatoriamente dois índices da solução e realiza a troca entre os valores, resultando assim em uma solução vizinha a anterior.\n",
    "\n",
    "A execução a seguir demonstra a criação de uma solução que considera 9 empresas e 9 projetos, mostrando suas versões densa e esparsa, assim como é realizada a movimentação para uma solução vizinha.\n"
   ]
  },
  {
   "cell_type": "code",
   "execution_count": 2,
   "id": "d4bd9538",
   "metadata": {},
   "outputs": [
    {
     "name": "stdout",
     "output_type": "stream",
     "text": [
      "Initial solution: \n",
      "[6 2 1 5 8 4 3 9 7]\n",
      "[[0 0 0 0 0 1 0 0 0]\n",
      " [0 1 0 0 0 0 0 0 0]\n",
      " [1 0 0 0 0 0 0 0 0]\n",
      " [0 0 0 0 1 0 0 0 0]\n",
      " [0 0 0 0 0 0 0 1 0]\n",
      " [0 0 0 1 0 0 0 0 0]\n",
      " [0 0 1 0 0 0 0 0 0]\n",
      " [0 0 0 0 0 0 0 0 1]\n",
      " [0 0 0 0 0 0 1 0 0]]\n",
      "\n",
      "Neighbor solution: \n",
      "[9 2 1 5 8 4 3 6 7]\n",
      "[[0 0 0 0 0 0 0 0 1]\n",
      " [0 1 0 0 0 0 0 0 0]\n",
      " [1 0 0 0 0 0 0 0 0]\n",
      " [0 0 0 0 1 0 0 0 0]\n",
      " [0 0 0 0 0 0 0 1 0]\n",
      " [0 0 0 1 0 0 0 0 0]\n",
      " [0 0 1 0 0 0 0 0 0]\n",
      " [0 0 0 0 0 1 0 0 0]\n",
      " [0 0 0 0 0 0 1 0 0]]\n"
     ]
    }
   ],
   "source": [
    "solution = Solution(n_companies=9, n_projects=9)\n",
    "\n",
    "print(\"Initial solution: \")\n",
    "print(solution)\n",
    "print(solution.sparse())\n",
    "\n",
    "solution.move()\n",
    "\n",
    "print(\"\\nNeighbor solution: \")\n",
    "print(solution)\n",
    "print(solution.sparse())"
   ]
  },
  {
   "cell_type": "markdown",
   "id": "878b5cb2",
   "metadata": {},
   "source": [
    "# 2. Função objetivo"
   ]
  },
  {
   "cell_type": "markdown",
   "id": "4dd782ee",
   "metadata": {},
   "source": [
    "Antes de definir a função objetivo, é importante armazenar a matriz de custos `cost_matrix`, que armazena os custos que cada empresa teria ao executar cada projeto, considerando a disposição dos índices como referência em relação às soluções geradas."
   ]
  },
  {
   "cell_type": "code",
   "execution_count": 3,
   "id": "32441669",
   "metadata": {},
   "outputs": [],
   "source": [
    "cost_matrix = np.array([\n",
    "    [12, 18, 15, 22, 9, 14, 20, 11, 17],\n",
    "    [19, 8, 13, 25, 16, 10, 7, 21, 24],\n",
    "    [6, 14, 27, 10, 12, 19, 23, 16, 8],\n",
    "    [17, 11, 20, 9, 18, 13, 25, 14, 22],\n",
    "    [10, 23, 16, 14, 7, 21, 12, 19, 15],\n",
    "    [13, 25, 9, 17, 11, 8, 16, 22, 20],\n",
    "    [21, 16, 24, 12, 20, 15, 9, 18, 10],\n",
    "    [8, 19, 11, 16, 22, 17, 14, 10, 13],\n",
    "    [15, 10, 18, 21, 13, 12, 22, 9, 16]\n",
    "])"
   ]
  },
  {
   "cell_type": "markdown",
   "id": "da580e03",
   "metadata": {},
   "source": [
    "A função objetivo para o problema de alocação de empresas à projetos foi modelada na classe `ObjectiveFunction`, que recebe como parâmetro uma matriz de custos. O objeto instanciado pode então ser chamado, com a passagem de uma nova solução como parâmetro, calculando assim o custo da solução.\n",
    "\n",
    "A execução a seguir demonstra o uso da função objetivo, calculando o custo para uma solução inicial e uma solução vizinha."
   ]
  },
  {
   "cell_type": "code",
   "execution_count": 4,
   "id": "8cb3c3af",
   "metadata": {},
   "outputs": [
    {
     "name": "stdout",
     "output_type": "stream",
     "text": [
      "Initial cost: 148\n",
      "New cost: 148\n"
     ]
    }
   ],
   "source": [
    "objective_function = ObjectiveFunction(cost_matrix)\n",
    "\n",
    "initial_cost = objective_function(solution)\n",
    "print(f\"Initial cost: {initial_cost}\")\n",
    "\n",
    "solution.move()\n",
    "\n",
    "new_cost = objective_function(solution)\n",
    "print(f\"New cost: {new_cost}\")"
   ]
  },
  {
   "cell_type": "markdown",
   "id": "14f1d457",
   "metadata": {},
   "source": [
    "# 3. Problema"
   ]
  },
  {
   "cell_type": "markdown",
   "id": "f4d98636",
   "metadata": {},
   "source": [
    "As considerações de um problema de otimização foram modeladas em uma superclasse `Problem`, um esboço para a implementação das classes que de fato definem o problema, `Minimize` e `Maximize`. Ao instanciar um desses tipos de problema, o objeto fica disponível para computar a condição de melhoria de custos de qualquer algoritmo de otimização ao retornar um booleano que responda ao problema, bastando passar os seguintes parâmetros:\n",
    "\n",
    "- `new_cost`: novo custo alcançado por uma solução vizinha à atual;\n",
    "- `best_cost`: melhor custo encontrado pelo algoritmo até o momento.\n",
    "\n",
    "A execução a seguir demonstra o uso da classe para um problema de minimização."
   ]
  },
  {
   "cell_type": "code",
   "execution_count": 5,
   "id": "ea6c618e",
   "metadata": {},
   "outputs": [
    {
     "data": {
      "text/plain": [
       "True"
      ]
     },
     "execution_count": 5,
     "metadata": {},
     "output_type": "execute_result"
    }
   ],
   "source": [
    "problem = Minimize()\n",
    "problem(new_cost=71, best_cost=72)"
   ]
  },
  {
   "cell_type": "markdown",
   "id": "4f0d941b",
   "metadata": {},
   "source": [
    "# 4. Heurísticas"
   ]
  },
  {
   "cell_type": "markdown",
   "id": "fb1f4226",
   "metadata": {},
   "source": [
    "## 4.1. Hill Climbing"
   ]
  },
  {
   "cell_type": "code",
   "execution_count": null,
   "id": "23f56fa1",
   "metadata": {},
   "outputs": [
    {
     "data": {
      "text/plain": [
       "Iteration: 10000\n",
       "\n",
       "Best cost: 87\n",
       "\n",
       "Best solution: [8 2 6 9 3 4 7 5 1]\n",
       "\n",
       "Allocation:\n",
       "[[0 0 0 0 0 0 0 1 0]\n",
       " [0 1 0 0 0 0 0 0 0]\n",
       " [0 0 0 0 0 1 0 0 0]\n",
       " [0 0 0 0 0 0 0 0 1]\n",
       " [0 0 1 0 0 0 0 0 0]\n",
       " [0 0 0 1 0 0 0 0 0]\n",
       " [0 0 0 0 0 0 1 0 0]\n",
       " [0 0 0 0 1 0 0 0 0]\n",
       " [1 0 0 0 0 0 0 0 0]]"
      ]
     },
     "execution_count": 34,
     "metadata": {},
     "output_type": "execute_result"
    }
   ],
   "source": [
    "hc = HillClimbing(\n",
    "    problem=Minimize(),\n",
    "    objective_function=objective_function,\n",
    "    cost_matrix=cost_matrix,\n",
    "    max_iterations=10_000,\n",
    "    patience=100\n",
    ")\n",
    "\n",
    "hc.run()\n",
    "\n",
    "hc"
   ]
  }
 ],
 "metadata": {
  "kernelspec": {
   "display_name": ".venv",
   "language": "python",
   "name": "python3"
  },
  "language_info": {
   "codemirror_mode": {
    "name": "ipython",
    "version": 3
   },
   "file_extension": ".py",
   "mimetype": "text/x-python",
   "name": "python",
   "nbconvert_exporter": "python",
   "pygments_lexer": "ipython3",
   "version": "3.12.7"
  }
 },
 "nbformat": 4,
 "nbformat_minor": 5
}
