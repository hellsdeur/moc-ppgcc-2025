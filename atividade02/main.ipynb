{
 "cells": [
  {
   "cell_type": "code",
   "execution_count": 19,
   "id": "892e064b",
   "metadata": {},
   "outputs": [],
   "source": [
    "import tracemalloc\n",
    "import pickle\n",
    "from typing import List, Dict, Any, Callable\n",
    "from time import time\n",
    "from tqdm import tqdm\n",
    "\n",
    "\n",
    "import numpy as np\n",
    "import pandas as pd\n",
    "import matplotlib.pyplot as plt\n",
    "import seaborn as sns\n",
    "sns.set_theme(style=\"whitegrid\", context=\"talk\")\n",
    "\n",
    "from utils import Solution, Problem, Minimize, Maximize, ObjectiveFunction\n",
    "from heuristics import HillClimbing"
   ]
  },
  {
   "cell_type": "markdown",
   "id": "4896f095",
   "metadata": {},
   "source": [
    "# 1. Solução"
   ]
  },
  {
   "cell_type": "markdown",
   "id": "3947de2e",
   "metadata": {},
   "source": [
    "As soluções do problema de alocação de empresas à projetos estão modeladas na classe `Solution`, que é construída a partir de dois parâmetros:\n",
    "\n",
    "- `n_companies`: o número de empresas a ser modelado;\n",
    "- `n_projects`: o número de projetos a ser modelado.\n",
    "\n",
    "De posse dessas duas informações, é criado então um atributo `x`, um array do Numpy que armazena os valores da solução codificada. Essa codificação transforma a matriz esparsa $m \\times n$ em um array 1-D cujos índices e valores indicam a linha e coluna de posição de uma alocação, respectivamente. Dessa forma, a restrição de ter apenas um projeto alocado a somente uma empresa é obedecida sempre.\n",
    "\n",
    "De forma a facilitar a visualização da solução baseada em alocações empresa $\\times$ projeto, o método `sparse()` retorna um array 2-D com a matriz original da codificação.\n",
    "\n",
    "Por fim, a função de vizinhança é implementada no método `move()`, que escolhe aleatoriamente dois índices da solução e realiza a troca entre os valores, resultando assim em uma solução vizinha a anterior.\n",
    "\n",
    "A execução a seguir demonstra a criação de uma solução que considera 9 empresas e 9 projetos, mostrando suas versões densa e esparsa, assim como é realizada a movimentação para uma solução vizinha.\n"
   ]
  },
  {
   "cell_type": "code",
   "execution_count": 2,
   "id": "d4bd9538",
   "metadata": {},
   "outputs": [
    {
     "name": "stdout",
     "output_type": "stream",
     "text": [
      "Initial solution: \n",
      "[1 7 6 8 3 2 9 5 4]\n",
      "[[1 0 0 0 0 0 0 0 0]\n",
      " [0 0 0 0 0 0 1 0 0]\n",
      " [0 0 0 0 0 1 0 0 0]\n",
      " [0 0 0 0 0 0 0 1 0]\n",
      " [0 0 1 0 0 0 0 0 0]\n",
      " [0 1 0 0 0 0 0 0 0]\n",
      " [0 0 0 0 0 0 0 0 1]\n",
      " [0 0 0 0 1 0 0 0 0]\n",
      " [0 0 0 1 0 0 0 0 0]]\n",
      "\n",
      "Neighbor solution: \n",
      "[1 5 6 8 3 2 9 7 4]\n",
      "[[1 0 0 0 0 0 0 0 0]\n",
      " [0 0 0 0 1 0 0 0 0]\n",
      " [0 0 0 0 0 1 0 0 0]\n",
      " [0 0 0 0 0 0 0 1 0]\n",
      " [0 0 1 0 0 0 0 0 0]\n",
      " [0 1 0 0 0 0 0 0 0]\n",
      " [0 0 0 0 0 0 0 0 1]\n",
      " [0 0 0 0 0 0 1 0 0]\n",
      " [0 0 0 1 0 0 0 0 0]]\n"
     ]
    }
   ],
   "source": [
    "solution = Solution(n_companies=9, n_projects=9)\n",
    "\n",
    "print(\"Initial solution: \")\n",
    "print(solution)\n",
    "print(solution.sparse())\n",
    "\n",
    "solution.move()\n",
    "\n",
    "print(\"\\nNeighbor solution: \")\n",
    "print(solution)\n",
    "print(solution.sparse())"
   ]
  },
  {
   "cell_type": "markdown",
   "id": "878b5cb2",
   "metadata": {},
   "source": [
    "# 2. Função objetivo"
   ]
  },
  {
   "cell_type": "markdown",
   "id": "4dd782ee",
   "metadata": {},
   "source": [
    "Antes de definir a função objetivo, é importante armazenar a matriz de custos `cost_matrix`, que armazena os custos que cada empresa teria ao executar cada projeto, considerando a disposição dos índices como referência em relação às soluções geradas."
   ]
  },
  {
   "cell_type": "code",
   "execution_count": 3,
   "id": "32441669",
   "metadata": {},
   "outputs": [],
   "source": [
    "cost_matrix = np.array([\n",
    "    [12, 18, 15, 22, 9, 14, 20, 11, 17],\n",
    "    [19, 8, 13, 25, 16, 10, 7, 21, 24],\n",
    "    [6, 14, 27, 10, 12, 19, 23, 16, 8],\n",
    "    [17, 11, 20, 9, 18, 13, 25, 14, 22],\n",
    "    [10, 23, 16, 14, 7, 21, 12, 19, 15],\n",
    "    [13, 25, 9, 17, 11, 8, 16, 22, 20],\n",
    "    [21, 16, 24, 12, 20, 15, 9, 18, 10],\n",
    "    [8, 19, 11, 16, 22, 17, 14, 10, 13],\n",
    "    [15, 10, 18, 21, 13, 12, 22, 9, 16]\n",
    "])"
   ]
  },
  {
   "cell_type": "markdown",
   "id": "da580e03",
   "metadata": {},
   "source": [
    "A função objetivo para o problema de alocação de empresas à projetos foi modelada na classe `ObjectiveFunction`, que recebe como parâmetro uma matriz de custos. O objeto instanciado pode então ser chamado, com a passagem de uma nova solução como parâmetro, calculando assim o custo da solução.\n",
    "\n",
    "A execução a seguir demonstra o uso da função objetivo, calculando o custo para uma solução inicial e uma solução vizinha."
   ]
  },
  {
   "cell_type": "code",
   "execution_count": 4,
   "id": "8cb3c3af",
   "metadata": {},
   "outputs": [
    {
     "name": "stdout",
     "output_type": "stream",
     "text": [
      "Initial cost: 147\n",
      "New cost: 141\n"
     ]
    }
   ],
   "source": [
    "objective_function = ObjectiveFunction(cost_matrix)\n",
    "\n",
    "initial_cost = objective_function(solution)\n",
    "print(f\"Initial cost: {initial_cost}\")\n",
    "\n",
    "solution.move()\n",
    "\n",
    "new_cost = objective_function(solution)\n",
    "print(f\"New cost: {new_cost}\")"
   ]
  },
  {
   "cell_type": "markdown",
   "id": "14f1d457",
   "metadata": {},
   "source": [
    "# 3. Problema"
   ]
  },
  {
   "cell_type": "markdown",
   "id": "f4d98636",
   "metadata": {},
   "source": [
    "As considerações de um problema de otimização foram modeladas em uma superclasse `Problem`, um esboço para a implementação das classes que de fato definem o problema, `Minimize` e `Maximize`. Ao instanciar um desses tipos de problema, o objeto fica disponível para computar a condição de melhoria de custos de qualquer algoritmo de otimização ao retornar um booleano que responda ao problema, bastando passar os seguintes parâmetros:\n",
    "\n",
    "- `new_cost`: novo custo alcançado por uma solução vizinha à atual;\n",
    "- `best_cost`: melhor custo encontrado pelo algoritmo até o momento.\n",
    "\n",
    "A execução a seguir demonstra o uso da classe para um problema de minimização."
   ]
  },
  {
   "cell_type": "code",
   "execution_count": 5,
   "id": "ea6c618e",
   "metadata": {},
   "outputs": [
    {
     "data": {
      "text/plain": [
       "True"
      ]
     },
     "execution_count": 5,
     "metadata": {},
     "output_type": "execute_result"
    }
   ],
   "source": [
    "problem = Minimize()\n",
    "problem(new_cost=71, best_cost=72)"
   ]
  },
  {
   "cell_type": "markdown",
   "id": "4f0d941b",
   "metadata": {},
   "source": [
    "# 4. Heurísticas"
   ]
  },
  {
   "cell_type": "markdown",
   "id": "fb1f4226",
   "metadata": {},
   "source": [
    "## 4.1. Hill Climbing"
   ]
  },
  {
   "cell_type": "markdown",
   "id": "ce760817",
   "metadata": {},
   "source": [
    "O algoritmo Hill Climbing foi implementado na classe `HillClimbing`. Esta recebe 5 parâmetros na sua construção:\n",
    "\n",
    "- `problem`: o tipo de problema modelado, podendo ser `Minimize` ou `Maximize`;\n",
    "- `objective_function`: a função objetivo que retorna os custos de uma solução;\n",
    "- `cost_matrix`: o array de custos usado na criação da função objetivo;\n",
    "- `max_iterations`: condição de parada que indica o número máximo de interações que o algoritmo pode executar;\n",
    "- `patience`: condição de parada que indica o número máximo de interações sem melhoria que o algoritmo pode executar.\n",
    "\n",
    "Ao chamar o método `run()` o algoritmo é executado para uma solução inicial aleatória. Após chamar este método, não é possível realizar outra chamada, preservando assim a configuração dos resultados alcançados.\n",
    "\n",
    "O algoritmo para quando alcança o número de iterações máximo ou quando passa um dado número de interações sem melhorar o custo, alcançando assim uma convergência local ou global.\n",
    "\n",
    "O objeto gerado e modificado após a execução do método `run()` possui três atributos de interesse para a análise do desempenho do algoritmo:\n",
    "\n",
    "- `n_iterations`: o valor do contador de iterações em que o algoritmo alcançou uma condição de parada, podendo ser um valor entre `patience` e `max_iterations`. Caso seja igual a `max_iterations`, é um indício de que podem ser encontrados resultados melhores, caso a quantidade de `max_iterations` aumente;\n",
    "- `best_cost`: o melhor custo encontrado, após `n_iterations` iterações;\n",
    "- `best_solution`: a melhor solução encontrada, cujos valores são armazenados no atributo `x`, ou em formato de matriz pelo método `sparse()`."
   ]
  },
  {
   "cell_type": "code",
   "execution_count": 6,
   "id": "23f56fa1",
   "metadata": {},
   "outputs": [
    {
     "data": {
      "text/plain": [
       "Iteration: 100000\n",
       "\n",
       "Best cost: 79\n",
       "\n",
       "Best solution: [6 5 2 9 3 8 4 7 1]\n",
       "\n",
       "Allocation:\n",
       "[[0 0 0 0 0 1 0 0 0]\n",
       " [0 0 0 0 1 0 0 0 0]\n",
       " [0 1 0 0 0 0 0 0 0]\n",
       " [0 0 0 0 0 0 0 0 1]\n",
       " [0 0 1 0 0 0 0 0 0]\n",
       " [0 0 0 0 0 0 0 1 0]\n",
       " [0 0 0 1 0 0 0 0 0]\n",
       " [0 0 0 0 0 0 1 0 0]\n",
       " [1 0 0 0 0 0 0 0 0]]"
      ]
     },
     "execution_count": 6,
     "metadata": {},
     "output_type": "execute_result"
    }
   ],
   "source": [
    "hc = HillClimbing(\n",
    "    problem=Minimize(),\n",
    "    objective_function=objective_function,\n",
    "    cost_matrix=cost_matrix,\n",
    "    max_iterations=100_000,\n",
    "    patience=100\n",
    ")\n",
    "\n",
    "hc.run()\n",
    "\n",
    "hc"
   ]
  },
  {
   "cell_type": "markdown",
   "id": "c5db0ef6",
   "metadata": {},
   "source": [
    "# 5. Análise do comportamento médio"
   ]
  },
  {
   "cell_type": "code",
   "execution_count": null,
   "id": "dc41d4bb",
   "metadata": {},
   "outputs": [
    {
     "data": {
      "text/html": [
       "<div>\n",
       "<style scoped>\n",
       "    .dataframe tbody tr th:only-of-type {\n",
       "        vertical-align: middle;\n",
       "    }\n",
       "\n",
       "    .dataframe tbody tr th {\n",
       "        vertical-align: top;\n",
       "    }\n",
       "\n",
       "    .dataframe thead th {\n",
       "        text-align: right;\n",
       "    }\n",
       "</style>\n",
       "<table border=\"1\" class=\"dataframe\">\n",
       "  <thead>\n",
       "    <tr style=\"text-align: right;\">\n",
       "      <th></th>\n",
       "      <th>iteration</th>\n",
       "      <th>best_cost</th>\n",
       "      <th>best_solution</th>\n",
       "      <th>history_cost</th>\n",
       "      <th>history_solution</th>\n",
       "      <th>execution_time</th>\n",
       "      <th>memory_peak</th>\n",
       "      <th>memory_peak_mb</th>\n",
       "    </tr>\n",
       "  </thead>\n",
       "  <tbody>\n",
       "    <tr>\n",
       "      <th>0</th>\n",
       "      <td>100000</td>\n",
       "      <td>81</td>\n",
       "      <td>[5 4 1 7 8 3 9 2 6]</td>\n",
       "      <td>[150, 150, 149, 137, 129, 128, 128, 128, 128, ...</td>\n",
       "      <td>[[5 4 1 7 8 3 9 2 6], [5 4 1 7 8 3 9 2 6], [5 ...</td>\n",
       "      <td>2.529101</td>\n",
       "      <td>1607057</td>\n",
       "      <td>1.607057</td>\n",
       "    </tr>\n",
       "    <tr>\n",
       "      <th>1</th>\n",
       "      <td>100000</td>\n",
       "      <td>81</td>\n",
       "      <td>[1 3 2 7 8 4 9 5 6]</td>\n",
       "      <td>[148, 144, 144, 142, 128, 128, 115, 113, 113, ...</td>\n",
       "      <td>[[1 3 2 7 8 4 9 5 6], [1 3 2 7 8 4 9 5 6], [1 ...</td>\n",
       "      <td>2.533617</td>\n",
       "      <td>1606492</td>\n",
       "      <td>1.606492</td>\n",
       "    </tr>\n",
       "    <tr>\n",
       "      <th>2</th>\n",
       "      <td>100000</td>\n",
       "      <td>79</td>\n",
       "      <td>[7 6 1 9 2 8 4 5 3]</td>\n",
       "      <td>[130, 130, 130, 130, 122, 122, 122, 122, 122, ...</td>\n",
       "      <td>[[7 6 1 9 2 8 4 5 3], [7 6 1 9 2 8 4 5 3], [7 ...</td>\n",
       "      <td>2.517381</td>\n",
       "      <td>1607391</td>\n",
       "      <td>1.607391</td>\n",
       "    </tr>\n",
       "    <tr>\n",
       "      <th>3</th>\n",
       "      <td>100000</td>\n",
       "      <td>81</td>\n",
       "      <td>[7 3 8 5 9 4 1 2 6]</td>\n",
       "      <td>[122, 122, 122, 122, 122, 120, 120, 120, 120, ...</td>\n",
       "      <td>[[7 3 8 5 9 4 1 2 6], [7 3 8 5 9 4 1 2 6], [7 ...</td>\n",
       "      <td>2.554590</td>\n",
       "      <td>1608656</td>\n",
       "      <td>1.608656</td>\n",
       "    </tr>\n",
       "    <tr>\n",
       "      <th>4</th>\n",
       "      <td>100000</td>\n",
       "      <td>81</td>\n",
       "      <td>[8 3 7 6 1 9 2 5 4]</td>\n",
       "      <td>[155, 144, 141, 136, 136, 126, 126, 126, 126, ...</td>\n",
       "      <td>[[8 3 7 6 1 9 2 5 4], [8 3 7 6 1 9 2 5 4], [8 ...</td>\n",
       "      <td>2.506857</td>\n",
       "      <td>1606823</td>\n",
       "      <td>1.606823</td>\n",
       "    </tr>\n",
       "    <tr>\n",
       "      <th>...</th>\n",
       "      <td>...</td>\n",
       "      <td>...</td>\n",
       "      <td>...</td>\n",
       "      <td>...</td>\n",
       "      <td>...</td>\n",
       "      <td>...</td>\n",
       "      <td>...</td>\n",
       "      <td>...</td>\n",
       "    </tr>\n",
       "    <tr>\n",
       "      <th>95</th>\n",
       "      <td>100000</td>\n",
       "      <td>79</td>\n",
       "      <td>[3 2 4 7 5 9 8 1 6]</td>\n",
       "      <td>[122, 122, 122, 122, 122, 122, 122, 122, 122, ...</td>\n",
       "      <td>[[3 2 4 7 5 9 8 1 6], [3 2 4 7 5 9 8 1 6], [3 ...</td>\n",
       "      <td>2.431397</td>\n",
       "      <td>1606420</td>\n",
       "      <td>1.606420</td>\n",
       "    </tr>\n",
       "    <tr>\n",
       "      <th>96</th>\n",
       "      <td>100000</td>\n",
       "      <td>79</td>\n",
       "      <td>[8 3 5 7 1 2 4 6 9]</td>\n",
       "      <td>[137, 129, 129, 129, 129, 121, 121, 109, 109, ...</td>\n",
       "      <td>[[8 3 5 7 1 2 4 6 9], [8 3 5 7 1 2 4 6 9], [8 ...</td>\n",
       "      <td>2.441497</td>\n",
       "      <td>1607084</td>\n",
       "      <td>1.607084</td>\n",
       "    </tr>\n",
       "    <tr>\n",
       "      <th>97</th>\n",
       "      <td>100000</td>\n",
       "      <td>81</td>\n",
       "      <td>[1 4 5 6 8 3 9 7 2]</td>\n",
       "      <td>[125, 115, 115, 115, 115, 115, 115, 115, 115, ...</td>\n",
       "      <td>[[1 4 5 6 8 3 9 7 2], [1 4 5 6 8 3 9 7 2], [1 ...</td>\n",
       "      <td>2.440788</td>\n",
       "      <td>1606684</td>\n",
       "      <td>1.606684</td>\n",
       "    </tr>\n",
       "    <tr>\n",
       "      <th>98</th>\n",
       "      <td>100000</td>\n",
       "      <td>81</td>\n",
       "      <td>[5 1 2 7 6 4 3 9 8]</td>\n",
       "      <td>[133, 133, 120, 120, 120, 120, 120, 120, 120, ...</td>\n",
       "      <td>[[5 1 2 7 6 4 3 9 8], [5 1 2 7 6 4 3 9 8], [5 ...</td>\n",
       "      <td>2.463882</td>\n",
       "      <td>1606444</td>\n",
       "      <td>1.606444</td>\n",
       "    </tr>\n",
       "    <tr>\n",
       "      <th>99</th>\n",
       "      <td>100000</td>\n",
       "      <td>79</td>\n",
       "      <td>[8 6 5 2 9 3 4 7 1]</td>\n",
       "      <td>[116, 116, 116, 116, 116, 98, 98, 98, 98, 98, ...</td>\n",
       "      <td>[[8 6 5 2 9 3 4 7 1], [8 6 5 2 9 3 4 7 1], [8 ...</td>\n",
       "      <td>2.439215</td>\n",
       "      <td>1606276</td>\n",
       "      <td>1.606276</td>\n",
       "    </tr>\n",
       "  </tbody>\n",
       "</table>\n",
       "<p>100 rows × 8 columns</p>\n",
       "</div>"
      ],
      "text/plain": [
       "    iteration  best_cost        best_solution  \\\n",
       "0      100000         81  [5 4 1 7 8 3 9 2 6]   \n",
       "1      100000         81  [1 3 2 7 8 4 9 5 6]   \n",
       "2      100000         79  [7 6 1 9 2 8 4 5 3]   \n",
       "3      100000         81  [7 3 8 5 9 4 1 2 6]   \n",
       "4      100000         81  [8 3 7 6 1 9 2 5 4]   \n",
       "..        ...        ...                  ...   \n",
       "95     100000         79  [3 2 4 7 5 9 8 1 6]   \n",
       "96     100000         79  [8 3 5 7 1 2 4 6 9]   \n",
       "97     100000         81  [1 4 5 6 8 3 9 7 2]   \n",
       "98     100000         81  [5 1 2 7 6 4 3 9 8]   \n",
       "99     100000         79  [8 6 5 2 9 3 4 7 1]   \n",
       "\n",
       "                                         history_cost  \\\n",
       "0   [150, 150, 149, 137, 129, 128, 128, 128, 128, ...   \n",
       "1   [148, 144, 144, 142, 128, 128, 115, 113, 113, ...   \n",
       "2   [130, 130, 130, 130, 122, 122, 122, 122, 122, ...   \n",
       "3   [122, 122, 122, 122, 122, 120, 120, 120, 120, ...   \n",
       "4   [155, 144, 141, 136, 136, 126, 126, 126, 126, ...   \n",
       "..                                                ...   \n",
       "95  [122, 122, 122, 122, 122, 122, 122, 122, 122, ...   \n",
       "96  [137, 129, 129, 129, 129, 121, 121, 109, 109, ...   \n",
       "97  [125, 115, 115, 115, 115, 115, 115, 115, 115, ...   \n",
       "98  [133, 133, 120, 120, 120, 120, 120, 120, 120, ...   \n",
       "99  [116, 116, 116, 116, 116, 98, 98, 98, 98, 98, ...   \n",
       "\n",
       "                                     history_solution  execution_time  \\\n",
       "0   [[5 4 1 7 8 3 9 2 6], [5 4 1 7 8 3 9 2 6], [5 ...        2.529101   \n",
       "1   [[1 3 2 7 8 4 9 5 6], [1 3 2 7 8 4 9 5 6], [1 ...        2.533617   \n",
       "2   [[7 6 1 9 2 8 4 5 3], [7 6 1 9 2 8 4 5 3], [7 ...        2.517381   \n",
       "3   [[7 3 8 5 9 4 1 2 6], [7 3 8 5 9 4 1 2 6], [7 ...        2.554590   \n",
       "4   [[8 3 7 6 1 9 2 5 4], [8 3 7 6 1 9 2 5 4], [8 ...        2.506857   \n",
       "..                                                ...             ...   \n",
       "95  [[3 2 4 7 5 9 8 1 6], [3 2 4 7 5 9 8 1 6], [3 ...        2.431397   \n",
       "96  [[8 3 5 7 1 2 4 6 9], [8 3 5 7 1 2 4 6 9], [8 ...        2.441497   \n",
       "97  [[1 4 5 6 8 3 9 7 2], [1 4 5 6 8 3 9 7 2], [1 ...        2.440788   \n",
       "98  [[5 1 2 7 6 4 3 9 8], [5 1 2 7 6 4 3 9 8], [5 ...        2.463882   \n",
       "99  [[8 6 5 2 9 3 4 7 1], [8 6 5 2 9 3 4 7 1], [8 ...        2.439215   \n",
       "\n",
       "    memory_peak  memory_peak_mb  \n",
       "0       1607057        1.607057  \n",
       "1       1606492        1.606492  \n",
       "2       1607391        1.607391  \n",
       "3       1608656        1.608656  \n",
       "4       1606823        1.606823  \n",
       "..          ...             ...  \n",
       "95      1606420        1.606420  \n",
       "96      1607084        1.607084  \n",
       "97      1606684        1.606684  \n",
       "98      1606444        1.606444  \n",
       "99      1606276        1.606276  \n",
       "\n",
       "[100 rows x 8 columns]"
      ]
     },
     "execution_count": 15,
     "metadata": {},
     "output_type": "execute_result"
    }
   ],
   "source": [
    "n_runs = 100\n",
    "\n",
    "results = []\n",
    "\n",
    "data = {\n",
    "    \"iteration\": [],\n",
    "    \"best_cost\": [],\n",
    "    \"best_solution\": [],\n",
    "    \"history_cost\": [],\n",
    "    \"history_solution\": [],\n",
    "    \"execution_time\": [],\n",
    "    \"memory_peak\": []\n",
    "}\n",
    "\n",
    "for i in tqdm(range(n_runs), desc=\"Running Hill Climbing\"):\n",
    "    hc = HillClimbing(\n",
    "        problem=Minimize(),\n",
    "        objective_function=objective_function,\n",
    "        cost_matrix=cost_matrix,\n",
    "        max_iterations=100_000,\n",
    "        patience=100\n",
    "    )\n",
    "\n",
    "    start_time = time()\n",
    "    tracemalloc.start()\n",
    "    hc.run()\n",
    "    current, peak = tracemalloc.get_traced_memory()\n",
    "    tracemalloc.stop()\n",
    "    end_time = time()\n",
    "\n",
    "    results.append(hc)\n",
    "\n",
    "    data[\"iteration\"].append(hc.n_iterations)\n",
    "    data[\"best_cost\"].append(hc.best_cost)\n",
    "    data[\"best_solution\"].append(hc.best_solution)\n",
    "    data[\"history_cost\"].append(hc.history[\"best_cost\"])\n",
    "    data[\"history_solution\"].append(hc.history[\"best_solution\"])\n",
    "    data[\"execution_time\"].append(end_time - start_time)\n",
    "    data[\"memory_peak\"].append(peak)\n",
    "\n",
    "df = pd.DataFrame(data)\n",
    "df[\"history_cost\"] = df[\"history_cost\"].apply(lambda x: np.array(x))\n",
    "df[\"history_solution\"] = df[\"history_solution\"].apply(lambda x: np.array(x))\n",
    "df[\"memory_peak_mb\"] = df[\"memory_peak\"].apply(lambda x: x / 10**6)\n",
    "df"
   ]
  },
  {
   "cell_type": "code",
   "execution_count": 29,
   "id": "614860eb",
   "metadata": {},
   "outputs": [],
   "source": [
    "with open(\"hill_climbing_results.pkl\", \"wb\") as f:\n",
    "    pickle.dump(df, f)"
   ]
  },
  {
   "cell_type": "code",
   "execution_count": 30,
   "id": "0b98a24b",
   "metadata": {},
   "outputs": [],
   "source": [
    "with open(\"hill_climbing_results.pkl\", \"rb\") as f:\n",
    "    df = pickle.load(f)"
   ]
  },
  {
   "cell_type": "markdown",
   "id": "dbb6f038",
   "metadata": {},
   "source": [
    "## 5.1. Convergência do custo"
   ]
  },
  {
   "cell_type": "code",
   "execution_count": 8,
   "id": "1a232e67",
   "metadata": {},
   "outputs": [
    {
     "data": {
      "text/plain": [
       "array([[150, 148, 130, ..., 125, 133, 116],\n",
       "       [150, 144, 130, ..., 115, 133, 116],\n",
       "       [149, 144, 130, ..., 115, 120, 116],\n",
       "       ...,\n",
       "       [ 81,  81,  79, ...,  81,  81,  79],\n",
       "       [ 81,  81,  79, ...,  81,  81,  79],\n",
       "       [ 81,  81,  79, ...,  81,  81,  79]], shape=(100000, 100))"
      ]
     },
     "execution_count": 8,
     "metadata": {},
     "output_type": "execute_result"
    }
   ],
   "source": [
    "costs_by_run = np.array(df[\"history_cost\"].to_list())\n",
    "costs_by_iteration = costs_by_run.T\n",
    "costs_by_iteration"
   ]
  },
  {
   "cell_type": "code",
   "execution_count": 9,
   "id": "3982cd16",
   "metadata": {},
   "outputs": [
    {
     "data": {
      "text/plain": [
       "array([134.7 , 131.18, 129.3 , ...,  80.67,  80.67,  80.67],\n",
       "      shape=(100000,))"
      ]
     },
     "execution_count": 9,
     "metadata": {},
     "output_type": "execute_result"
    }
   ],
   "source": [
    "means_by_iteration = costs_by_iteration.mean(axis=1)\n",
    "means_by_iteration"
   ]
  },
  {
   "cell_type": "code",
   "execution_count": 10,
   "id": "5ed7c166",
   "metadata": {},
   "outputs": [
    {
     "data": {
      "text/plain": [
       "array([14.61950752, 13.32319781, 12.46635472, ...,  1.37153199,\n",
       "        1.37153199,  1.37153199], shape=(100000,))"
      ]
     },
     "execution_count": 10,
     "metadata": {},
     "output_type": "execute_result"
    }
   ],
   "source": [
    "std_by_iteration = costs_by_iteration.std(axis=1)\n",
    "std_by_iteration"
   ]
  },
  {
   "cell_type": "code",
   "execution_count": 11,
   "id": "380afae0",
   "metadata": {},
   "outputs": [
    {
     "data": {
      "text/plain": [
       "np.int64(79)"
      ]
     },
     "execution_count": 11,
     "metadata": {},
     "output_type": "execute_result"
    }
   ],
   "source": [
    "min_cost = costs_by_iteration.min()\n",
    "min_cost"
   ]
  },
  {
   "cell_type": "code",
   "execution_count": 32,
   "id": "1a47a6c9",
   "metadata": {},
   "outputs": [
    {
     "data": {
      "image/png": "[encoded data removed]",
      "text/plain": [
       "<Figure size 1000x600 with 1 Axes>"
      ]
     },
     "metadata": {},
     "output_type": "display_data"
    }
   ],
   "source": [
    "fig_costs, ax_costs = plt.subplots(figsize=(10, 6))\n",
    "\n",
    "sns.lineplot(\n",
    "    x=np.arange(len(means_by_iteration)),\n",
    "    y=means_by_iteration,\n",
    "    ax=ax_costs,\n",
    "    label=\"Média do custo\",\n",
    "    color=\"royalblue\",\n",
    "    linewidth=2.5\n",
    ")\n",
    "\n",
    "ax_costs.fill_between(\n",
    "    np.arange(len(means_by_iteration)),\n",
    "    means_by_iteration - std_by_iteration,\n",
    "    means_by_iteration + std_by_iteration,\n",
    "    color=\"royalblue\",\n",
    "    alpha=0.2,\n",
    "    label=\"Desvio padrão do custo\"\n",
    ")\n",
    "\n",
    "ax_costs.axhline(\n",
    "    y=min_cost,\n",
    "    linestyle=\"--\",\n",
    "    color=\"forestgreen\",\n",
    "    linewidth=2,\n",
    "    label=f\"Custo mínimo = {min_cost}\"\n",
    ")\n",
    "\n",
    "ax_costs.set_title(\"Custo médio por iteração\", fontsize=20)\n",
    "ax_costs.set_xlabel(\"Iteração\", fontsize=16)\n",
    "ax_costs.set_ylabel(\"Custo\", fontsize=16)\n",
    "ax_costs.tick_params(axis='both', which='major', labelsize=12)\n",
    "ax_costs.grid(True, which='both', linestyle='--', linewidth=0.7, alpha=0.7)\n",
    "ax_costs.legend(fontsize=12, frameon=True)\n",
    "plt.tight_layout()\n",
    "plt.savefig(\"images/mean_cost_per_iteration.svg\", dpi=300)\n",
    "plt.show()"
   ]
  },
  {
   "cell_type": "markdown",
   "id": "73227f1e",
   "metadata": {},
   "source": [
    "## 5.2. Distribuição do tempo de execução"
   ]
  },
  {
   "cell_type": "code",
   "execution_count": 33,
   "id": "aaa76f61",
   "metadata": {},
   "outputs": [
    {
     "data": {
      "image/png": "[encoded data removed]",
      "text/plain": [
       "<Figure size 400x600 with 1 Axes>"
      ]
     },
     "metadata": {},
     "output_type": "display_data"
    }
   ],
   "source": [
    "fig_time, ax_time = plt.subplots(figsize=(4, 6))\n",
    "\n",
    "sns.boxplot(\n",
    "    y=df[\"execution_time\"],\n",
    "    ax=ax_time,\n",
    "    color=\"thistle\",\n",
    "    width=0.4,\n",
    "    fliersize=4,\n",
    "    linewidth=2\n",
    ")\n",
    "\n",
    "ax_time.set_title(\"Tempo gasto por execução\", fontsize=16)\n",
    "ax_time.set_ylabel(\"Tempo gasto (s)\", fontsize=14)\n",
    "ax_time.set_xlabel(\"\")\n",
    "ax_time.tick_params(axis='both', which='major', labelsize=12)\n",
    "ax_time.grid(True, linestyle='--', linewidth=0.7, alpha=0.6)\n",
    "plt.tight_layout()\n",
    "plt.savefig(\"images/execution_time_per_run.svg\", dpi=300)\n",
    "plt.show()"
   ]
  },
  {
   "cell_type": "markdown",
   "id": "351cb42a",
   "metadata": {},
   "source": [
    "## 5.3. Pico de memória"
   ]
  },
  {
   "cell_type": "code",
   "execution_count": 34,
   "id": "cc420631",
   "metadata": {},
   "outputs": [
    {
     "data": {
      "image/png": "[encoded data removed]",
      "text/plain": [
       "<Figure size 400x600 with 1 Axes>"
      ]
     },
     "metadata": {},
     "output_type": "display_data"
    }
   ],
   "source": [
    "fig_peak, ax_peak = plt.subplots(figsize=(4, 6))\n",
    "\n",
    "sns.boxplot(\n",
    "    y=df[\"memory_peak_mb\"],\n",
    "    ax=ax_peak,\n",
    "    color=\"aquamarine\",\n",
    "    width=0.4,\n",
    "    fliersize=4,\n",
    "    linewidth=2\n",
    ")\n",
    "\n",
    "ax_peak.set_title(\"Pico de memória por execução\", fontsize=16)\n",
    "ax_peak.set_ylabel(\"Pico de RAM (MB)\", fontsize=14)\n",
    "ax_peak.set_xlabel(\"\")\n",
    "ax_peak.tick_params(axis='both', which='major', labelsize=12)\n",
    "ax_peak.grid(True, linestyle='--', linewidth=0.7, alpha=0.6)\n",
    "plt.tight_layout()\n",
    "plt.savefig(\"images/memory_peak_per_run.svg\", dpi=300)\n",
    "plt.show()"
   ]
  }
 ],
 "metadata": {
  "kernelspec": {
   "display_name": ".venv",
   "language": "python",
   "name": "python3"
  },
  "language_info": {
   "codemirror_mode": {
    "name": "ipython",
    "version": 3
   },
   "file_extension": ".py",
   "mimetype": "text/x-python",
   "name": "python",
   "nbconvert_exporter": "python",
   "pygments_lexer": "ipython3",
   "version": "3.12.7"
  }
 },
 "nbformat": 4,
 "nbformat_minor": 5
}
